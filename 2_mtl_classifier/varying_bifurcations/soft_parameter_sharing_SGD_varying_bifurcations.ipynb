{
 "cells": [
  {
   "cell_type": "code",
   "execution_count": 1,
   "metadata": {
    "collapsed": true
   },
   "outputs": [],
   "source": [
    "import tensorflow as tf\n",
    "import numpy as np\n",
    "import mlp.tf_utils as utils\n",
    "from mlp.data_providers import AugmentedCIFAR10DataProvider, AugmentedCIFAR100DataProvider, CIFAR100DataProvider, CIFAR10DataProvider\n",
    "from mlp.image_transforms import random_flip, random_crop, center_crop, random_flip_small\n",
    "from mlp.Conv_models import ConvModel, TwoTaskConvModel, TwoTaskConvModelSoftSharing\n",
    "import matplotlib.pyplot as plt\n",
    "import seaborn as sns\n",
    "%matplotlib inline\n",
    "\n",
    "seed = 12345 \n",
    "rng = np.random.RandomState(seed)"
   ]
  },
  {
   "cell_type": "code",
   "execution_count": 2,
   "metadata": {
    "collapsed": true
   },
   "outputs": [],
   "source": [
    "layer_dims = [3, 64, 128, 128, 128, _]\n",
    "batch_size = 256\n",
    "\n",
    "joint_loss = False\n",
    "max_pools = [True, True, False, True]\n",
    "lrns = []\n",
    "lrn_alphas = []\n",
    "batch_norms = [True, True, True, True]\n",
    "l1 = False\n",
    "l2 = 5e-4\n",
    "learning_rates = [1e-1, 1e-2, 1e-3]\n",
    "lrn_schedule = [-1, 66, 133]\n",
    "optimizer_params = [0.9, 0.999]  \n",
    "activation = tf.nn.relu\n",
    "dropout = True\n",
    "soft_loss = 1e-1\n",
    "epochs = 200\n",
    "error = 'soft_max_cross_entropy'\n",
    "image_size = 32  \n",
    "optimiser = \"SGD\"  \n",
    "logs_dir = \"tf-log\""
   ]
  },
  {
   "cell_type": "code",
   "execution_count": 3,
   "metadata": {},
   "outputs": [
    {
     "name": "stdout",
     "output_type": "stream",
     "text": [
      "MODEL:- MTL_soft_with_1.0_of_the_data_and_bif_1\n",
      "Setting up model...\n",
      "Initializing network...\n"
     ]
    },
    {
     "ename": "KeyboardInterrupt",
     "evalue": "",
     "output_type": "error",
     "traceback": [
      "\u001b[0;31m---------------------------------------------------------------------------\u001b[0m",
      "\u001b[0;31mKeyboardInterrupt\u001b[0m                         Traceback (most recent call last)",
      "\u001b[0;32m<ipython-input-3-9d0df1b0ede9>\u001b[0m in \u001b[0;36m<module>\u001b[0;34m()\u001b[0m\n\u001b[1;32m     31\u001b[0m \u001b[0;34m\u001b[0m\u001b[0m\n\u001b[1;32m     32\u001b[0m     \u001b[0mmodel\u001b[0m\u001b[0;34m.\u001b[0m\u001b[0mcreate_network\u001b[0m\u001b[0;34m(\u001b[0m\u001b[0;34m)\u001b[0m\u001b[0;34m\u001b[0m\u001b[0m\n\u001b[0;32m---> 33\u001b[0;31m     \u001b[0mmodel\u001b[0m\u001b[0;34m.\u001b[0m\u001b[0minitialize_network\u001b[0m\u001b[0;34m(\u001b[0m\u001b[0mlogs_dir\u001b[0m\u001b[0;34m)\u001b[0m\u001b[0;34m\u001b[0m\u001b[0m\n\u001b[0m\u001b[1;32m     34\u001b[0m     \u001b[0mmodel\u001b[0m\u001b[0;34m.\u001b[0m\u001b[0mtrain_model\u001b[0m\u001b[0;34m(\u001b[0m\u001b[0;34m)\u001b[0m\u001b[0;34m\u001b[0m\u001b[0m\n\u001b[1;32m     35\u001b[0m \u001b[0;34m\u001b[0m\u001b[0m\n",
      "\u001b[0;32m/home/ben/mlpractical/mlp/Conv_models.pyc\u001b[0m in \u001b[0;36minitialize_network\u001b[0;34m(self, logs_dir, ckpt_meta_dir)\u001b[0m\n\u001b[1;32m   1316\u001b[0m         self.other_writer = tf.summary.FileWriter(os.path.join(self.logs_dir, self.name,\n\u001b[1;32m   1317\u001b[0m                                                                self.initialized_timestamp, 'other'),\n\u001b[0;32m-> 1318\u001b[0;31m                                                   graph=self.sess.graph)\n\u001b[0m\u001b[1;32m   1319\u001b[0m \u001b[0;34m\u001b[0m\u001b[0m\n\u001b[1;32m   1320\u001b[0m         \u001b[0minit\u001b[0m \u001b[0;34m=\u001b[0m \u001b[0mtf\u001b[0m\u001b[0;34m.\u001b[0m\u001b[0mglobal_variables_initializer\u001b[0m\u001b[0;34m(\u001b[0m\u001b[0;34m)\u001b[0m\u001b[0;34m\u001b[0m\u001b[0m\n",
      "\u001b[0;32m/home/ben/miniconda2/envs/mlp/lib/python2.7/site-packages/tensorflow/python/summary/writer/writer.pyc\u001b[0m in \u001b[0;36m__init__\u001b[0;34m(self, logdir, graph, max_queue, flush_secs, graph_def)\u001b[0m\n\u001b[1;32m    287\u001b[0m     \"\"\"\n\u001b[1;32m    288\u001b[0m     \u001b[0mevent_writer\u001b[0m \u001b[0;34m=\u001b[0m \u001b[0mEventFileWriter\u001b[0m\u001b[0;34m(\u001b[0m\u001b[0mlogdir\u001b[0m\u001b[0;34m,\u001b[0m \u001b[0mmax_queue\u001b[0m\u001b[0;34m,\u001b[0m \u001b[0mflush_secs\u001b[0m\u001b[0;34m)\u001b[0m\u001b[0;34m\u001b[0m\u001b[0m\n\u001b[0;32m--> 289\u001b[0;31m     \u001b[0msuper\u001b[0m\u001b[0;34m(\u001b[0m\u001b[0mFileWriter\u001b[0m\u001b[0;34m,\u001b[0m \u001b[0mself\u001b[0m\u001b[0;34m)\u001b[0m\u001b[0;34m.\u001b[0m\u001b[0m__init__\u001b[0m\u001b[0;34m(\u001b[0m\u001b[0mevent_writer\u001b[0m\u001b[0;34m,\u001b[0m \u001b[0mgraph\u001b[0m\u001b[0;34m,\u001b[0m \u001b[0mgraph_def\u001b[0m\u001b[0;34m)\u001b[0m\u001b[0;34m\u001b[0m\u001b[0m\n\u001b[0m\u001b[1;32m    290\u001b[0m \u001b[0;34m\u001b[0m\u001b[0m\n\u001b[1;32m    291\u001b[0m   \u001b[0;32mdef\u001b[0m \u001b[0mget_logdir\u001b[0m\u001b[0;34m(\u001b[0m\u001b[0mself\u001b[0m\u001b[0;34m)\u001b[0m\u001b[0;34m:\u001b[0m\u001b[0;34m\u001b[0m\u001b[0m\n",
      "\u001b[0;32m/home/ben/miniconda2/envs/mlp/lib/python2.7/site-packages/tensorflow/python/summary/writer/writer.pyc\u001b[0m in \u001b[0;36m__init__\u001b[0;34m(self, event_writer, graph, graph_def)\u001b[0m\n\u001b[1;32m     73\u001b[0m     \u001b[0;32mif\u001b[0m \u001b[0mgraph\u001b[0m \u001b[0;32mis\u001b[0m \u001b[0;32mnot\u001b[0m \u001b[0mNone\u001b[0m \u001b[0;32mor\u001b[0m \u001b[0mgraph_def\u001b[0m \u001b[0;32mis\u001b[0m \u001b[0;32mnot\u001b[0m \u001b[0mNone\u001b[0m\u001b[0;34m:\u001b[0m\u001b[0;34m\u001b[0m\u001b[0m\n\u001b[1;32m     74\u001b[0m       \u001b[0;31m# Calling it with both graph and graph_def for backward compatibility.\u001b[0m\u001b[0;34m\u001b[0m\u001b[0;34m\u001b[0m\u001b[0m\n\u001b[0;32m---> 75\u001b[0;31m       \u001b[0mself\u001b[0m\u001b[0;34m.\u001b[0m\u001b[0madd_graph\u001b[0m\u001b[0;34m(\u001b[0m\u001b[0mgraph\u001b[0m\u001b[0;34m=\u001b[0m\u001b[0mgraph\u001b[0m\u001b[0;34m,\u001b[0m \u001b[0mgraph_def\u001b[0m\u001b[0;34m=\u001b[0m\u001b[0mgraph_def\u001b[0m\u001b[0;34m)\u001b[0m\u001b[0;34m\u001b[0m\u001b[0m\n\u001b[0m\u001b[1;32m     76\u001b[0m       \u001b[0;31m# Also export the meta_graph_def in this case.\u001b[0m\u001b[0;34m\u001b[0m\u001b[0;34m\u001b[0m\u001b[0m\n\u001b[1;32m     77\u001b[0m       \u001b[0;31m# graph may itself be a graph_def due to positional arguments\u001b[0m\u001b[0;34m\u001b[0m\u001b[0;34m\u001b[0m\u001b[0m\n",
      "\u001b[0;32m/home/ben/miniconda2/envs/mlp/lib/python2.7/site-packages/tensorflow/python/summary/writer/writer.pyc\u001b[0m in \u001b[0;36madd_graph\u001b[0;34m(self, graph, global_step, graph_def)\u001b[0m\n\u001b[1;32m    177\u001b[0m                       \"or the deprecated `GraphDef`\")\n\u001b[1;32m    178\u001b[0m     \u001b[0;31m# Finally, add the graph_def to the summary writer.\u001b[0m\u001b[0;34m\u001b[0m\u001b[0;34m\u001b[0m\u001b[0m\n\u001b[0;32m--> 179\u001b[0;31m     \u001b[0mself\u001b[0m\u001b[0;34m.\u001b[0m\u001b[0m_add_graph_def\u001b[0m\u001b[0;34m(\u001b[0m\u001b[0mtrue_graph_def\u001b[0m\u001b[0;34m,\u001b[0m \u001b[0mglobal_step\u001b[0m\u001b[0;34m)\u001b[0m\u001b[0;34m\u001b[0m\u001b[0m\n\u001b[0m\u001b[1;32m    180\u001b[0m \u001b[0;34m\u001b[0m\u001b[0m\n\u001b[1;32m    181\u001b[0m   \u001b[0;32mdef\u001b[0m \u001b[0madd_meta_graph\u001b[0m\u001b[0;34m(\u001b[0m\u001b[0mself\u001b[0m\u001b[0;34m,\u001b[0m \u001b[0mmeta_graph_def\u001b[0m\u001b[0;34m,\u001b[0m \u001b[0mglobal_step\u001b[0m\u001b[0;34m=\u001b[0m\u001b[0mNone\u001b[0m\u001b[0;34m)\u001b[0m\u001b[0;34m:\u001b[0m\u001b[0;34m\u001b[0m\u001b[0m\n",
      "\u001b[0;32m/home/ben/miniconda2/envs/mlp/lib/python2.7/site-packages/tensorflow/python/summary/writer/writer.pyc\u001b[0m in \u001b[0;36m_add_graph_def\u001b[0;34m(self, graph_def, global_step)\u001b[0m\n\u001b[1;32m    123\u001b[0m \u001b[0;34m\u001b[0m\u001b[0m\n\u001b[1;32m    124\u001b[0m   \u001b[0;32mdef\u001b[0m \u001b[0m_add_graph_def\u001b[0m\u001b[0;34m(\u001b[0m\u001b[0mself\u001b[0m\u001b[0;34m,\u001b[0m \u001b[0mgraph_def\u001b[0m\u001b[0;34m,\u001b[0m \u001b[0mglobal_step\u001b[0m\u001b[0;34m=\u001b[0m\u001b[0mNone\u001b[0m\u001b[0;34m)\u001b[0m\u001b[0;34m:\u001b[0m\u001b[0;34m\u001b[0m\u001b[0m\n\u001b[0;32m--> 125\u001b[0;31m     \u001b[0mgraph_bytes\u001b[0m \u001b[0;34m=\u001b[0m \u001b[0mgraph_def\u001b[0m\u001b[0;34m.\u001b[0m\u001b[0mSerializeToString\u001b[0m\u001b[0;34m(\u001b[0m\u001b[0;34m)\u001b[0m\u001b[0;34m\u001b[0m\u001b[0m\n\u001b[0m\u001b[1;32m    126\u001b[0m     \u001b[0mevent\u001b[0m \u001b[0;34m=\u001b[0m \u001b[0mevent_pb2\u001b[0m\u001b[0;34m.\u001b[0m\u001b[0mEvent\u001b[0m\u001b[0;34m(\u001b[0m\u001b[0mgraph_def\u001b[0m\u001b[0;34m=\u001b[0m\u001b[0mgraph_bytes\u001b[0m\u001b[0;34m)\u001b[0m\u001b[0;34m\u001b[0m\u001b[0m\n\u001b[1;32m    127\u001b[0m     \u001b[0mself\u001b[0m\u001b[0;34m.\u001b[0m\u001b[0m_add_event\u001b[0m\u001b[0;34m(\u001b[0m\u001b[0mevent\u001b[0m\u001b[0;34m,\u001b[0m \u001b[0mglobal_step\u001b[0m\u001b[0;34m)\u001b[0m\u001b[0;34m\u001b[0m\u001b[0m\n",
      "\u001b[0;31mKeyboardInterrupt\u001b[0m: "
     ]
    }
   ],
   "source": [
    "mtl_models = []\n",
    "b_models = []\n",
    "bifurcation_point = 1\n",
    "\n",
    "for i, ratio in enumerate([1.]):\n",
    "    tf.reset_default_graph()\n",
    "    model_name = 'MTL_soft_with_' + str(ratio) + \"_of_the_data_and_bif_\" + str(bifurcation_point)\n",
    "    print(\"MODEL:- \" + model_name)\n",
    "    \n",
    "    main_train_data = CIFAR100DataProvider(which_set='train',\n",
    "                                                    batch_size=batch_size, shuffle_order=False)\n",
    "    main_valid_data = CIFAR100DataProvider(which_set='valid', batch_size=batch_size, shuffle_order=False)\n",
    "\n",
    "    aux_train_data = CIFAR10DataProvider(which_set='train',\n",
    "                                                   batch_size=batch_size, shuffle_order=False)\n",
    "    aux_valid_data = CIFAR10DataProvider(which_set='valid', batch_size=batch_size, shuffle_order=False)\n",
    "    \n",
    "    m_t_idx = utils.sample_data(main_train_data, ratio)\n",
    "    m_v_idx = utils.sample_data(main_valid_data, ratio)\n",
    "    _1 = utils.sample_data(aux_train_data, ratio, m_t_idx)\n",
    "    _2 = utils.sample_data(aux_valid_data, ratio, m_v_idx)\n",
    "    \n",
    "    model = TwoTaskConvModelSoftSharing(conv_layer_dims=layer_dims, main_train_data=main_train_data, main_valid_data=main_valid_data,\n",
    "                         aux_train_data=aux_train_data, aux_valid_data=aux_valid_data, L1=l1, L2=l2,\n",
    "                         batch_size=batch_size, learning_rates=learning_rates, learning_rate_schedule=lrn_schedule,\n",
    "                         optimiser=optimiser, max_pools=max_pools, lin_response_norms=lrns,\n",
    "                         lin_response_alphas=lrn_alphas, batch_norms=batch_norms, bifurcation_point=bifurcation_point,\n",
    "                         optimiser_params=optimizer_params, activation=activation, dropout=dropout,\n",
    "                         epochs=epochs, error=error, input_image_size=image_size, name=model_name, joint_loss=joint_loss,\n",
    "                                       soft_loss=soft_loss)\n",
    "    \n",
    "    model.create_network()\n",
    "    model.initialize_network(logs_dir)\n",
    "    model.train_model()\n",
    "\n",
    "    mtl_models.append(model)"
   ]
  },
  {
   "cell_type": "code",
   "execution_count": null,
   "metadata": {},
   "outputs": [],
   "source": [
    "mtl_models = []\n",
    "b_models = []\n",
    "bifurcation_point = 3\n",
    "\n",
    "for i, ratio in enumerate([1.]):\n",
    "    tf.reset_default_graph()\n",
    "    model_name = 'MTL_soft_with_' + str(ratio) + \"_of_the_data_and_bif_\" + str(bifurcation_point)\n",
    "    print(\"MODEL:- \" + model_name)\n",
    "    \n",
    "    main_train_data = CIFAR100DataProvider(which_set='train',\n",
    "                                                    batch_size=batch_size, shuffle_order=False)\n",
    "    main_valid_data = CIFAR100DataProvider(which_set='valid', batch_size=batch_size, shuffle_order=False)\n",
    "\n",
    "    aux_train_data = CIFAR10DataProvider(which_set='train',\n",
    "                                                   batch_size=batch_size, shuffle_order=False)\n",
    "    aux_valid_data = CIFAR10DataProvider(which_set='valid', batch_size=batch_size, shuffle_order=False)\n",
    "    \n",
    "    m_t_idx = utils.sample_data(main_train_data, ratio)\n",
    "    m_v_idx = utils.sample_data(main_valid_data, ratio)\n",
    "    _1 = utils.sample_data(aux_train_data, ratio, m_t_idx)\n",
    "    _2 = utils.sample_data(aux_valid_data, ratio, m_v_idx)\n",
    "    \n",
    "    model = TwoTaskConvModelSoftSharing(conv_layer_dims=layer_dims, main_train_data=main_train_data, main_valid_data=main_valid_data,\n",
    "                         aux_train_data=aux_train_data, aux_valid_data=aux_valid_data, L1=l1, L2=l2,\n",
    "                         batch_size=batch_size, learning_rates=learning_rates, learning_rate_schedule=lrn_schedule,\n",
    "                         optimiser=optimiser, max_pools=max_pools, lin_response_norms=lrns,\n",
    "                         lin_response_alphas=lrn_alphas, batch_norms=batch_norms, bifurcation_point=bifurcation_point,\n",
    "                         optimiser_params=optimizer_params, activation=activation, dropout=dropout,\n",
    "                         epochs=epochs, error=error, input_image_size=image_size, name=model_name, joint_loss=joint_loss,\n",
    "                                       soft_loss=soft_loss)\n",
    "    \n",
    "    model.create_network()\n",
    "    model.initialize_network(logs_dir)\n",
    "    model.train_model()\n",
    "\n",
    "    mtl_models.append(model)"
   ]
  },
  {
   "cell_type": "code",
   "execution_count": null,
   "metadata": {},
   "outputs": [],
   "source": [
    "mtl_models = []\n",
    "b_models = []\n",
    "bifurcation_point = 4\n",
    "\n",
    "for i, ratio in enumerate([1.]):\n",
    "    tf.reset_default_graph()\n",
    "    model_name = 'MTL_soft_with_' + str(ratio) + \"_of_the_data_and_bif_\" + str(bifurcation_point)\n",
    "    print(\"MODEL:- \" + model_name)\n",
    "    \n",
    "    main_train_data = CIFAR100DataProvider(which_set='train',\n",
    "                                                    batch_size=batch_size, shuffle_order=False)\n",
    "    main_valid_data = CIFAR100DataProvider(which_set='valid', batch_size=batch_size, shuffle_order=False)\n",
    "\n",
    "    aux_train_data = CIFAR10DataProvider(which_set='train',\n",
    "                                                   batch_size=batch_size, shuffle_order=False)\n",
    "    aux_valid_data = CIFAR10DataProvider(which_set='valid', batch_size=batch_size, shuffle_order=False)\n",
    "    \n",
    "    m_t_idx = utils.sample_data(main_train_data, ratio)\n",
    "    m_v_idx = utils.sample_data(main_valid_data, ratio)\n",
    "    _1 = utils.sample_data(aux_train_data, ratio, m_t_idx)\n",
    "    _2 = utils.sample_data(aux_valid_data, ratio, m_v_idx)\n",
    "    \n",
    "    model = TwoTaskConvModelSoftSharing(conv_layer_dims=layer_dims, main_train_data=main_train_data, main_valid_data=main_valid_data,\n",
    "                         aux_train_data=aux_train_data, aux_valid_data=aux_valid_data, L1=l1, L2=l2,\n",
    "                         batch_size=batch_size, learning_rates=learning_rates, learning_rate_schedule=lrn_schedule,\n",
    "                         optimiser=optimiser, max_pools=max_pools, lin_response_norms=lrns,\n",
    "                         lin_response_alphas=lrn_alphas, batch_norms=batch_norms, bifurcation_point=bifurcation_point,\n",
    "                         optimiser_params=optimizer_params, activation=activation, dropout=dropout,\n",
    "                         epochs=epochs, error=error, input_image_size=image_size, name=model_name, joint_loss=joint_loss,\n",
    "                                       soft_loss=soft_loss)\n",
    "    \n",
    "    model.create_network()\n",
    "    model.initialize_network(logs_dir)\n",
    "    model.train_model()\n",
    "\n",
    "    mtl_models.append(model)"
   ]
  }
 ],
 "metadata": {
  "kernelspec": {
   "display_name": "Python 2",
   "language": "python",
   "name": "python2"
  },
  "language_info": {
   "codemirror_mode": {
    "name": "ipython",
    "version": 2
   },
   "file_extension": ".py",
   "mimetype": "text/x-python",
   "name": "python",
   "nbconvert_exporter": "python",
   "pygments_lexer": "ipython2",
   "version": "2.7.13"
  }
 },
 "nbformat": 4,
 "nbformat_minor": 1
}
