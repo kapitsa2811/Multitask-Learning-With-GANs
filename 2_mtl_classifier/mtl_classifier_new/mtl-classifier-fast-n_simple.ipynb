{
 "cells": [
  {
   "cell_type": "code",
   "execution_count": 1,
   "metadata": {
    "collapsed": true
   },
   "outputs": [],
   "source": [
    "import tensorflow as tf\n",
    "import numpy as np\n",
    "from mlp.data_providers import AugmentedCIFAR10DataProvider, AugmentedCIFAR100DataProvider, CIFAR100DataProvider, CIFAR10DataProvider\n",
    "from mlp.image_transforms import random_flip, random_crop, center_crop, random_flip_small\n",
    "from mlp.Conv_models import ConvModel, TwoTaskConvModel\n",
    "import matplotlib.pyplot as plt\n",
    "import seaborn as sns\n",
    "%matplotlib inline\n",
    "\n",
    "seed = 12345 \n",
    "rng = np.random.RandomState(seed)"
   ]
  },
  {
   "cell_type": "code",
   "execution_count": 2,
   "metadata": {
    "collapsed": true
   },
   "outputs": [],
   "source": [
    "tf.reset_default_graph()\n",
    "model_name = 'mtl-classifier-fast_n_simple_bif_2'"
   ]
  },
  {
   "cell_type": "code",
   "execution_count": 3,
   "metadata": {
    "collapsed": true
   },
   "outputs": [],
   "source": [
    "layer_dims = [3, 64, 128, 256, 512, _]\n",
    "batch_size = 128\n",
    "\n",
    "main_train_data = CIFAR100DataProvider(which_set='train',\n",
    "                                                batch_size=batch_size, shuffle_order=False)\n",
    "main_valid_data = CIFAR100DataProvider(which_set='valid', batch_size=batch_size, shuffle_order=False)\n",
    "\n",
    "aux_train_data = CIFAR100DataProvider(which_set='train',\n",
    "                                               batch_size=batch_size, shuffle_order=False, use_coarse_targets=True)\n",
    "aux_valid_data = CIFAR100DataProvider(which_set='valid', batch_size=batch_size, \n",
    "                                      use_coarse_targets=True, shuffle_order=False)\n",
    "\n",
    "bifurcation_point = 2\n",
    "joint_loss = False\n",
    "max_pools = [True, True, False, True]\n",
    "lrns = []\n",
    "lrn_alphas = []\n",
    "batch_norms = [True, True, True, True]\n",
    "l1 = False\n",
    "l2 = 5e-4\n",
    "learning_rates = [2e-4]  \n",
    "lrn_schedule = []\n",
    "optimizer_params = [0.9, 0.999]  \n",
    "activation = tf.nn.relu\n",
    "dropout = False\n",
    "epochs = 50\n",
    "error = 'soft_max_cross_entropy'\n",
    "image_size = 32  \n",
    "optimiser = \"Adam\"  \n",
    "logs_dir = \"tf-log\""
   ]
  },
  {
   "cell_type": "code",
   "execution_count": 4,
   "metadata": {},
   "outputs": [],
   "source": [
    "model_1 = TwoTaskConvModel(conv_layer_dims=layer_dims, main_train_data=main_train_data, main_valid_data=main_valid_data,\n",
    "                         aux_train_data=aux_train_data, aux_valid_data=aux_valid_data, L1=l1, L2=l2,\n",
    "                         batch_size=batch_size, learning_rates=learning_rates, learning_rate_schedule=lrn_schedule,\n",
    "                         optimiser=optimiser, max_pools=max_pools, lin_response_norms=lrns,\n",
    "                         lin_response_alphas=lrn_alphas, batch_norms=batch_norms, bifurcation_point=bifurcation_point,\n",
    "                         optimiser_params=optimizer_params, activation=activation, dropout=dropout,\n",
    "                         epochs=epochs, error=error, input_image_size=image_size, name=model_name, joint_loss=joint_loss)"
   ]
  },
  {
   "cell_type": "code",
   "execution_count": 5,
   "metadata": {},
   "outputs": [
    {
     "name": "stdout",
     "output_type": "stream",
     "text": [
      "Setting up model...\n",
      "Initializing network...\n",
      "Training model...\n",
      "Epoch:  1\n",
      "Epoch:  2\n",
      "Epoch:  3\n",
      "Epoch:  4\n",
      "Epoch:  5\n",
      "Epoch:  6\n",
      "Epoch:  7\n",
      "Epoch:  8\n",
      "Epoch:  9\n",
      "Epoch:  10\n",
      "Epoch:  11\n",
      "Epoch:  12\n",
      "Epoch:  13\n",
      "Epoch:  14\n",
      "Epoch:  15\n",
      "Epoch:  16\n",
      "Epoch:  17\n",
      "Epoch:  18\n",
      "Epoch:  19\n",
      "Epoch:  20\n",
      "Epoch:  21\n",
      "Epoch:  22\n",
      "Epoch:  23\n",
      "Epoch:  24\n",
      "Epoch:  25\n",
      "Epoch:  26\n",
      "Epoch:  27\n",
      "Epoch:  28\n",
      "Epoch:  29\n",
      "Epoch:  30\n",
      "Epoch:  31\n",
      "Epoch:  32\n",
      "Epoch:  33\n",
      "Epoch:  34\n",
      "Epoch:  35\n",
      "Epoch:  36\n",
      "Epoch:  37\n",
      "Epoch:  38\n",
      "Epoch:  39\n",
      "Epoch:  40\n",
      "Epoch:  41\n",
      "Epoch:  42\n",
      "Epoch:  43\n",
      "Epoch:  44\n",
      "Epoch:  45\n",
      "Epoch:  46\n",
      "Epoch:  47\n",
      "Epoch:  48\n",
      "Epoch:  49\n",
      "Time taken: 3758.27385402\n"
     ]
    }
   ],
   "source": [
    "model_1.create_network()\n",
    "model_1.initialize_network(logs_dir)\n",
    "model_1.train_model()"
   ]
  },
  {
   "cell_type": "code",
   "execution_count": 6,
   "metadata": {
    "collapsed": true
   },
   "outputs": [],
   "source": [
    "tf.reset_default_graph()\n",
    "model_name = 'mtl-classifier-fast_n_simple_bif_3'\n",
    "bifurcation_point = 3\n",
    "\n",
    "main_train_data = CIFAR100DataProvider(which_set='train',\n",
    "                                                batch_size=batch_size, shuffle_order=False)\n",
    "main_valid_data = CIFAR100DataProvider(which_set='valid', batch_size=batch_size, shuffle_order=False)\n",
    "\n",
    "aux_train_data = CIFAR100DataProvider(which_set='train',\n",
    "                                               batch_size=batch_size, shuffle_order=False, use_coarse_targets=True)\n",
    "aux_valid_data = CIFAR100DataProvider(which_set='valid', batch_size=batch_size, \n",
    "                                      use_coarse_targets=True, shuffle_order=False)"
   ]
  },
  {
   "cell_type": "code",
   "execution_count": 7,
   "metadata": {
    "collapsed": true
   },
   "outputs": [],
   "source": [
    "model_2 = TwoTaskConvModel(conv_layer_dims=layer_dims, main_train_data=main_train_data, main_valid_data=main_valid_data,\n",
    "                         aux_train_data=aux_train_data, aux_valid_data=aux_valid_data, L1=l1, L2=l2,\n",
    "                         batch_size=batch_size, learning_rates=learning_rates, learning_rate_schedule=lrn_schedule,\n",
    "                         optimiser=optimiser, max_pools=max_pools, lin_response_norms=lrns,\n",
    "                         lin_response_alphas=lrn_alphas, batch_norms=batch_norms, bifurcation_point=bifurcation_point,\n",
    "                         optimiser_params=optimizer_params, activation=activation, dropout=dropout,\n",
    "                         epochs=epochs, error=error, input_image_size=image_size, name=model_name, joint_loss=joint_loss)"
   ]
  },
  {
   "cell_type": "code",
   "execution_count": 8,
   "metadata": {},
   "outputs": [
    {
     "name": "stdout",
     "output_type": "stream",
     "text": [
      "Setting up model...\n",
      "Initializing network...\n",
      "Training model...\n",
      "Epoch:  1\n",
      "Epoch:  2\n",
      "Epoch:  3\n",
      "Epoch:  4\n",
      "Epoch:  5\n",
      "Epoch:  6\n",
      "Epoch:  7\n",
      "Epoch:  8\n",
      "Epoch:  9\n",
      "Epoch:  10\n",
      "Epoch:  11\n",
      "Epoch:  12\n",
      "Epoch:  13\n",
      "Epoch:  14\n",
      "Epoch:  15\n",
      "Epoch:  16\n",
      "Epoch:  17\n",
      "Epoch:  18\n",
      "Epoch:  19\n",
      "Epoch:  20\n",
      "Epoch:  21\n",
      "Epoch:  22\n",
      "Epoch:  23\n",
      "Epoch:  24\n",
      "Epoch:  25\n",
      "Epoch:  26\n",
      "Epoch:  27\n",
      "Epoch:  28\n",
      "Epoch:  29\n",
      "Epoch:  30\n",
      "Epoch:  31\n",
      "Epoch:  32\n",
      "Epoch:  33\n",
      "Epoch:  34\n",
      "Epoch:  35\n",
      "Epoch:  36\n",
      "Epoch:  37\n",
      "Epoch:  38\n",
      "Epoch:  39\n",
      "Epoch:  40\n",
      "Epoch:  41\n",
      "Epoch:  42\n",
      "Epoch:  43\n",
      "Epoch:  44\n",
      "Epoch:  45\n",
      "Epoch:  46\n",
      "Epoch:  47\n",
      "Epoch:  48\n",
      "Epoch:  49\n",
      "Time taken: 3229.03042912\n"
     ]
    }
   ],
   "source": [
    "model_2.create_network()\n",
    "model_2.initialize_network(logs_dir)\n",
    "model_2.train_model()"
   ]
  },
  {
   "cell_type": "code",
   "execution_count": 9,
   "metadata": {
    "collapsed": true
   },
   "outputs": [],
   "source": [
    "tf.reset_default_graph()\n",
    "model_name = 'mtl-classifier-fast_n_simple_bif_4'\n",
    "bifurcation_point = 4\n",
    "\n",
    "main_train_data = CIFAR100DataProvider(which_set='train',\n",
    "                                                batch_size=batch_size, shuffle_order=False)\n",
    "main_valid_data = CIFAR100DataProvider(which_set='valid', batch_size=batch_size, shuffle_order=False)\n",
    "\n",
    "aux_train_data = CIFAR100DataProvider(which_set='train',\n",
    "                                               batch_size=batch_size, shuffle_order=False, use_coarse_targets=True)\n",
    "aux_valid_data = CIFAR100DataProvider(which_set='valid', batch_size=batch_size, \n",
    "                                      use_coarse_targets=True, shuffle_order=False)"
   ]
  },
  {
   "cell_type": "code",
   "execution_count": 10,
   "metadata": {
    "collapsed": true
   },
   "outputs": [],
   "source": [
    "model_3 = TwoTaskConvModel(conv_layer_dims=layer_dims, main_train_data=main_train_data, main_valid_data=main_valid_data,\n",
    "                         aux_train_data=aux_train_data, aux_valid_data=aux_valid_data, L1=l1, L2=l2,\n",
    "                         batch_size=batch_size, learning_rates=learning_rates, learning_rate_schedule=lrn_schedule,\n",
    "                         optimiser=optimiser, max_pools=max_pools, lin_response_norms=lrns,\n",
    "                         lin_response_alphas=lrn_alphas, batch_norms=batch_norms, bifurcation_point=bifurcation_point,\n",
    "                         optimiser_params=optimizer_params, activation=activation, dropout=dropout,\n",
    "                         epochs=epochs, error=error, input_image_size=image_size, name=model_name, joint_loss=joint_loss)"
   ]
  },
  {
   "cell_type": "code",
   "execution_count": 11,
   "metadata": {},
   "outputs": [
    {
     "name": "stdout",
     "output_type": "stream",
     "text": [
      "Setting up model...\n",
      "Initializing network...\n",
      "Training model...\n",
      "Epoch:  1\n",
      "Epoch:  2\n",
      "Epoch:  3\n",
      "Epoch:  4\n",
      "Epoch:  5\n",
      "Epoch:  6\n",
      "Epoch:  7\n",
      "Epoch:  8\n",
      "Epoch:  9\n",
      "Epoch:  10\n",
      "Epoch:  11\n",
      "Epoch:  12\n",
      "Epoch:  13\n",
      "Epoch:  14\n",
      "Epoch:  15\n",
      "Epoch:  16\n",
      "Epoch:  17\n",
      "Epoch:  18\n",
      "Epoch:  19\n",
      "Epoch:  20\n",
      "Epoch:  21\n",
      "Epoch:  22\n",
      "Epoch:  23\n",
      "Epoch:  24\n",
      "Epoch:  25\n",
      "Epoch:  26\n",
      "Epoch:  27\n",
      "Epoch:  28\n",
      "Epoch:  29\n",
      "Epoch:  30\n",
      "Epoch:  31\n",
      "Epoch:  32\n",
      "Epoch:  33\n",
      "Epoch:  34\n",
      "Epoch:  35\n",
      "Epoch:  36\n",
      "Epoch:  37\n",
      "Epoch:  38\n",
      "Epoch:  39\n",
      "Epoch:  40\n",
      "Epoch:  41\n",
      "Epoch:  42\n",
      "Epoch:  43\n",
      "Epoch:  44\n",
      "Epoch:  45\n",
      "Epoch:  46\n",
      "Epoch:  47\n",
      "Epoch:  48\n",
      "Epoch:  49\n",
      "Time taken: 1684.31993508\n"
     ]
    }
   ],
   "source": [
    "model_3.create_network()\n",
    "model_3.initialize_network(logs_dir)\n",
    "model_3.train_model()"
   ]
  },
  {
   "cell_type": "code",
   "execution_count": 12,
   "metadata": {
    "collapsed": true
   },
   "outputs": [],
   "source": [
    "tf.reset_default_graph()"
   ]
  },
  {
   "cell_type": "code",
   "execution_count": 13,
   "metadata": {
    "collapsed": true
   },
   "outputs": [],
   "source": [
    "model_name = 'baseline-fast_n_simple'"
   ]
  },
  {
   "cell_type": "code",
   "execution_count": 14,
   "metadata": {
    "collapsed": true
   },
   "outputs": [],
   "source": [
    "train_data = CIFAR100DataProvider(which_set='train', batch_size=batch_size)\n",
    "valid_data = CIFAR100DataProvider(which_set='valid', batch_size=batch_size)"
   ]
  },
  {
   "cell_type": "code",
   "execution_count": 15,
   "metadata": {},
   "outputs": [
    {
     "name": "stdout",
     "output_type": "stream",
     "text": [
      "Setting up model...\n",
      "Initializing network...\n",
      "Training model...\n",
      "Epoch:  1\n",
      "Epoch:  2\n",
      "Epoch:  3\n",
      "Epoch:  4\n",
      "Epoch:  5\n",
      "Epoch:  6\n",
      "Epoch:  7\n",
      "Epoch:  8\n",
      "Epoch:  9\n",
      "Epoch:  10\n",
      "Epoch:  11\n",
      "Epoch:  12\n",
      "Epoch:  13\n",
      "Epoch:  14\n",
      "Epoch:  15\n",
      "Epoch:  16\n",
      "Epoch:  17\n",
      "Epoch:  18\n",
      "Epoch:  19\n",
      "Epoch:  20\n",
      "Epoch:  21\n",
      "Epoch:  22\n",
      "Epoch:  23\n",
      "Epoch:  24\n",
      "Epoch:  25\n",
      "Epoch:  26\n",
      "Epoch:  27\n",
      "Epoch:  28\n",
      "Epoch:  29\n",
      "Epoch:  30\n",
      "Epoch:  31\n",
      "Epoch:  32\n",
      "Epoch:  33\n",
      "Epoch:  34\n",
      "Epoch:  35\n",
      "Epoch:  36\n",
      "Epoch:  37\n",
      "Epoch:  38\n",
      "Epoch:  39\n",
      "Epoch:  40\n",
      "Epoch:  41\n",
      "Epoch:  42\n",
      "Epoch:  43\n",
      "Epoch:  44\n",
      "Epoch:  45\n",
      "Epoch:  46\n",
      "Epoch:  47\n",
      "Epoch:  48\n",
      "Epoch:  49\n",
      "Epoch:  50\n",
      "Time taken: 1041.57347393\n"
     ]
    }
   ],
   "source": [
    "model_b = ConvModel(conv_layer_dims=layer_dims, train_data=train_data, valid_data=valid_data,\n",
    "                 batch_size=batch_size, learning_rates=learning_rates, learning_rate_schedule=[],\n",
    "                 optimiser=optimiser, L1=l1, L2=l2,\n",
    "                 max_pools=max_pools, lin_response_norms=lrns, lin_response_alphas=lrn_alphas, batch_norms=batch_norms,\n",
    "                 optimiser_params=optimizer_params, activation=activation, dropout=dropout,\n",
    "                 epochs=epochs, error=error, input_image_size=image_size, name=model_name)\n",
    "model_b.create_network()\n",
    "model_b.initialize_network(logs_dir)\n",
    "model_b.train_model()"
   ]
  },
  {
   "cell_type": "code",
   "execution_count": 17,
   "metadata": {
    "collapsed": true
   },
   "outputs": [],
   "source": [
    "tf.reset_default_graph()\n",
    "model_name = 'mtl-classifier-fast_n_simple_bif_1'\n",
    "bifurcation_point = 1\n",
    "\n",
    "main_train_data = CIFAR100DataProvider(which_set='train',\n",
    "                                                batch_size=batch_size, shuffle_order=False)\n",
    "main_valid_data = CIFAR100DataProvider(which_set='valid', batch_size=batch_size, shuffle_order=False)\n",
    "\n",
    "aux_train_data = CIFAR100DataProvider(which_set='train',\n",
    "                                               batch_size=batch_size, shuffle_order=False, use_coarse_targets=True)\n",
    "aux_valid_data = CIFAR100DataProvider(which_set='valid', batch_size=batch_size, \n",
    "                                      use_coarse_targets=True, shuffle_order=False)"
   ]
  },
  {
   "cell_type": "code",
   "execution_count": 18,
   "metadata": {
    "collapsed": true
   },
   "outputs": [],
   "source": [
    "model_4 = TwoTaskConvModel(conv_layer_dims=layer_dims, main_train_data=main_train_data, main_valid_data=main_valid_data,\n",
    "                         aux_train_data=aux_train_data, aux_valid_data=aux_valid_data, L1=l1, L2=l2,\n",
    "                         batch_size=batch_size, learning_rates=learning_rates, learning_rate_schedule=lrn_schedule,\n",
    "                         optimiser=optimiser, max_pools=max_pools, lin_response_norms=lrns,\n",
    "                         lin_response_alphas=lrn_alphas, batch_norms=batch_norms, bifurcation_point=bifurcation_point,\n",
    "                         optimiser_params=optimizer_params, activation=activation, dropout=dropout,\n",
    "                         epochs=epochs, error=error, input_image_size=image_size, name=model_name, joint_loss=joint_loss)"
   ]
  },
  {
   "cell_type": "code",
   "execution_count": 19,
   "metadata": {},
   "outputs": [
    {
     "name": "stdout",
     "output_type": "stream",
     "text": [
      "Setting up model...\n",
      "Initializing network...\n",
      "Training model...\n",
      "Epoch:  1\n",
      "Epoch:  2\n",
      "Epoch:  3\n",
      "Epoch:  4\n",
      "Epoch:  5\n",
      "Epoch:  6\n",
      "Epoch:  7\n",
      "Epoch:  8\n",
      "Epoch:  9\n",
      "Epoch:  10\n",
      "Epoch:  11\n",
      "Epoch:  12\n",
      "Epoch:  13\n",
      "Epoch:  14\n",
      "Epoch:  15\n",
      "Epoch:  16\n",
      "Epoch:  17\n",
      "Epoch:  18\n",
      "Epoch:  19\n",
      "Epoch:  20\n",
      "Epoch:  21\n",
      "Epoch:  22\n",
      "Epoch:  23\n",
      "Epoch:  24\n",
      "Epoch:  25\n",
      "Epoch:  26\n",
      "Epoch:  27\n",
      "Epoch:  28\n",
      "Epoch:  29\n",
      "Epoch:  30\n",
      "Epoch:  31\n",
      "Epoch:  32\n",
      "Epoch:  33\n",
      "Epoch:  34\n",
      "Epoch:  35\n",
      "Epoch:  36\n",
      "Epoch:  37\n",
      "Epoch:  38\n",
      "Epoch:  39\n",
      "Epoch:  40\n",
      "Epoch:  41\n",
      "Epoch:  42\n",
      "Epoch:  43\n",
      "Epoch:  44\n",
      "Epoch:  45\n",
      "Epoch:  46\n",
      "Epoch:  47\n",
      "Epoch:  48\n",
      "Epoch:  49\n",
      "Time taken: 4781.19094801\n"
     ]
    }
   ],
   "source": [
    "model_4.create_network()\n",
    "model_4.initialize_network(logs_dir)\n",
    "model_4.train_model()"
   ]
  },
  {
   "cell_type": "code",
   "execution_count": null,
   "metadata": {
    "collapsed": true
   },
   "outputs": [],
   "source": []
  }
 ],
 "metadata": {
  "kernelspec": {
   "display_name": "Python 2",
   "language": "python",
   "name": "python2"
  },
  "language_info": {
   "codemirror_mode": {
    "name": "ipython",
    "version": 2
   },
   "file_extension": ".py",
   "mimetype": "text/x-python",
   "name": "python",
   "nbconvert_exporter": "python",
   "pygments_lexer": "ipython2",
   "version": "2.7.13"
  }
 },
 "nbformat": 4,
 "nbformat_minor": 1
}
