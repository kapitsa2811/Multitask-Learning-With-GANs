{
 "cells": [
  {
   "cell_type": "code",
   "execution_count": null,
   "metadata": {
    "collapsed": true
   },
   "outputs": [],
   "source": [
    "import tensorflow as tf\n",
    "import numpy as np\n",
    "from mlp.data_providers import AugmentedCIFAR10DataProvider, AugmentedCIFAR100DataProvider, CIFAR100DataProvider, CIFAR10DataProvider\n",
    "from mlp.image_transforms import random_flip, random_crop, center_crop, random_flip_small\n",
    "from mlp.Conv_models import ConvModel, TwoTaskConvModel\n",
    "import matplotlib.pyplot as plt\n",
    "import seaborn as sns\n",
    "%matplotlib inline\n",
    "\n",
    "seed = 666 \n",
    "rng = np.random.RandomState(seed)"
   ]
  },
  {
   "cell_type": "code",
   "execution_count": null,
   "metadata": {
    "collapsed": true
   },
   "outputs": [],
   "source": [
    "model_name = 'mtl-classifier-fast-long'"
   ]
  },
  {
   "cell_type": "code",
   "execution_count": null,
   "metadata": {
    "collapsed": true
   },
   "outputs": [],
   "source": [
    "def combined_transformer(inputs, rng):\n",
    "    inputs = random_crop(inputs, rng)\n",
    "    return random_flip_small(inputs, rng)"
   ]
  },
  {
   "cell_type": "code",
   "execution_count": null,
   "metadata": {
    "collapsed": true
   },
   "outputs": [],
   "source": [
    "layer_dims = [3, 64, 128, 256, 512, _]\n",
    "batch_size = 256\n",
    "\n",
    "main_train_data = CIFAR100DataProvider(which_set='train',\n",
    "                                                batch_size=batch_size, shuffle_order=False)\n",
    "main_valid_data = CIFAR100DataProvider(which_set='valid', batch_size=batch_size, shuffle_order=False)\n",
    "\n",
    "aux_train_data = CIFAR100DataProvider(which_set='train',\n",
    "                                               batch_size=batch_size, shuffle_order=False, use_coarse_targets=True)\n",
    "aux_valid_data = CIFAR100DataProvider(which_set='valid', batch_size=batch_size, \n",
    "                                      use_coarse_targets=True, shuffle_order=False)\n",
    "\n",
    "bifurcation_point = 2\n",
    "joint_loss = False\n",
    "max_pools = [True, True, False, True]\n",
    "lrns = []\n",
    "lrn_alphas = []\n",
    "batch_norms = []\n",
    "l1 = False\n",
    "l2 = 5e-4\n",
    "learning_rates = [2e-4]  \n",
    "lrn_schedule = []\n",
    "optimizer_params = [0.9, 0.999]  \n",
    "activation = tf.nn.relu\n",
    "dropout = True\n",
    "epochs = 800\n",
    "error = 'soft_max_cross_entropy'\n",
    "image_size = 32  \n",
    "optimiser = \"Adam\"  \n",
    "logs_dir = \"tf-log\""
   ]
  },
  {
   "cell_type": "code",
   "execution_count": null,
   "metadata": {},
   "outputs": [],
   "source": [
    "model = TwoTaskConvModel(conv_layer_dims=layer_dims, main_train_data=main_train_data, main_valid_data=main_valid_data,\n",
    "                         aux_train_data=aux_train_data, aux_valid_data=aux_valid_data, L1=l1, L2=l2,\n",
    "                         batch_size=batch_size, learning_rates=learning_rates, learning_rate_schedule=lrn_schedule,\n",
    "                         optimiser=optimiser, max_pools=max_pools, lin_response_norms=lrns,\n",
    "                         lin_response_alphas=lrn_alphas, batch_norms=batch_norms, bifurcation_point=bifurcation_point,\n",
    "                         optimiser_params=optimizer_params, activation=activation, dropout=dropout,\n",
    "                         epochs=epochs, error=error, input_image_size=image_size, name=model_name, joint_loss=joint_loss)\n",
    "model.create_network()\n",
    "model.initialize_network(logs_dir)\n",
    "model.train_model()"
   ]
  },
  {
   "cell_type": "code",
   "execution_count": null,
   "metadata": {
    "collapsed": true
   },
   "outputs": [],
   "source": [
    "tf.reset_default_graph()"
   ]
  },
  {
   "cell_type": "code",
   "execution_count": null,
   "metadata": {
    "collapsed": true
   },
   "outputs": [],
   "source": [
    "model_name = 'baseline-fast-long'"
   ]
  },
  {
   "cell_type": "code",
   "execution_count": null,
   "metadata": {
    "collapsed": true
   },
   "outputs": [],
   "source": [
    "train_data = CIFAR100DataProvider(which_set='train', batch_size=batch_size)\n",
    "valid_data = CIFAR100DataProvider(which_set='valid', batch_size=batch_size)\n",
    "epochs = 800"
   ]
  },
  {
   "cell_type": "code",
   "execution_count": null,
   "metadata": {},
   "outputs": [],
   "source": [
    "model = ConvModel(conv_layer_dims=layer_dims, train_data=train_data, valid_data=valid_data,\n",
    "                 batch_size=batch_size, learning_rates=learning_rates, learning_rate_schedule=[],\n",
    "                 optimiser=optimiser, L1=l1, L2=l2,\n",
    "                 max_pools=max_pools, lin_response_norms=lrns, lin_response_alphas=lrn_alphas, batch_norms=batch_norms,\n",
    "                 optimiser_params=optimizer_params, activation=activation, dropout=dropout,\n",
    "                 epochs=epochs, error=error, input_image_size=image_size, name=model_name)\n",
    "model.create_network()\n",
    "model.initialize_network(logs_dir)\n",
    "model.train_model()"
   ]
  },
  {
   "cell_type": "code",
   "execution_count": null,
   "metadata": {
    "collapsed": true
   },
   "outputs": [],
   "source": []
  }
 ],
 "metadata": {
  "kernelspec": {
   "display_name": "Python 2",
   "language": "python",
   "name": "python2"
  },
  "language_info": {
   "codemirror_mode": {
    "name": "ipython",
    "version": 2
   },
   "file_extension": ".py",
   "mimetype": "text/x-python",
   "name": "python",
   "nbconvert_exporter": "python",
   "pygments_lexer": "ipython2",
   "version": "2.7.13"
  }
 },
 "nbformat": 4,
 "nbformat_minor": 1
}
