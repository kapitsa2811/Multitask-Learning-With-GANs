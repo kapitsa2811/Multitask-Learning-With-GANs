{
 "cells": [
  {
   "cell_type": "code",
   "execution_count": 1,
   "metadata": {
    "collapsed": true
   },
   "outputs": [],
   "source": [
    "import tensorflow as tf\n",
    "import numpy as np\n",
    "import mlp.tf_utils as utils\n",
    "from mlp.data_providers import AugmentedCIFAR10DataProvider, AugmentedCIFAR100DataProvider, CIFAR100DataProvider, CIFAR10DataProvider\n",
    "from mlp.image_transforms import random_flip, random_crop, center_crop, random_flip_small\n",
    "from mlp.Conv_models import ConvModel, TwoTaskConvModel, TwoTaskConvModelSoftSharing\n",
    "import matplotlib.pyplot as plt\n",
    "import seaborn as sns\n",
    "%matplotlib inline\n",
    "\n",
    "seed = 12345 \n",
    "rng = np.random.RandomState(seed)"
   ]
  },
  {
   "cell_type": "code",
   "execution_count": 2,
   "metadata": {
    "collapsed": true
   },
   "outputs": [],
   "source": [
    "layer_dims = [3, 64, 128, 128, 128, _]\n",
    "batch_size = 256\n",
    "\n",
    "bifurcation_point = 3\n",
    "joint_loss = False\n",
    "max_pools = [True, True, False, True]\n",
    "lrns = []\n",
    "lrn_alphas = []\n",
    "batch_norms = [True, True, True, True]\n",
    "l1 = False\n",
    "l2 = 5e-4\n",
    "learning_rates = [1e-1, 1e-2, 1e-3]\n",
    "lrn_schedule = [-1, 66, 133]\n",
    "optimizer_params = [0.9, 0.999]  \n",
    "activation = tf.nn.relu\n",
    "dropout = True\n",
    "epochs = 200\n",
    "error = 'soft_max_cross_entropy'\n",
    "image_size = 32  \n",
    "optimiser = \"ADAM\"  \n",
    "logs_dir = \"tf-log\"\n",
    "soft_loss = 1e-1"
   ]
  },
  {
   "cell_type": "code",
   "execution_count": 3,
   "metadata": {},
   "outputs": [
    {
     "name": "stdout",
     "output_type": "stream",
     "text": [
      "MODEL:- MTL_CIFAR_100_and_10_ADAM\n",
      "Setting up model...\n"
     ]
    },
    {
     "ename": "NotImplementedError",
     "evalue": "",
     "output_type": "error",
     "traceback": [
      "\u001b[0;31m---------------------------------------------------------------------------\u001b[0m",
      "\u001b[0;31mNotImplementedError\u001b[0m                       Traceback (most recent call last)",
      "\u001b[0;32m<ipython-input-3-5a3decbdd892>\u001b[0m in \u001b[0;36m<module>\u001b[0;34m()\u001b[0m\n\u001b[1;32m     26\u001b[0m                                        soft_loss=soft_loss)\n\u001b[1;32m     27\u001b[0m \u001b[0;34m\u001b[0m\u001b[0m\n\u001b[0;32m---> 28\u001b[0;31m     \u001b[0mmodel\u001b[0m\u001b[0;34m.\u001b[0m\u001b[0mcreate_network\u001b[0m\u001b[0;34m(\u001b[0m\u001b[0;34m)\u001b[0m\u001b[0;34m\u001b[0m\u001b[0m\n\u001b[0m\u001b[1;32m     29\u001b[0m     \u001b[0mmodel\u001b[0m\u001b[0;34m.\u001b[0m\u001b[0minitialize_network\u001b[0m\u001b[0;34m(\u001b[0m\u001b[0mlogs_dir\u001b[0m\u001b[0;34m)\u001b[0m\u001b[0;34m\u001b[0m\u001b[0m\n\u001b[1;32m     30\u001b[0m     \u001b[0mmodel\u001b[0m\u001b[0;34m.\u001b[0m\u001b[0mtrain_model\u001b[0m\u001b[0;34m(\u001b[0m\u001b[0;34m)\u001b[0m\u001b[0;34m\u001b[0m\u001b[0m\n",
      "\u001b[0;32m/home/ben/mlpractical/mlp/Conv_models.py\u001b[0m in \u001b[0;36mcreate_network\u001b[0;34m(self, var_dict, initialized_values)\u001b[0m\n\u001b[1;32m   1193\u001b[0m                                                           name=\"RMSProp_aux\").minimize(self.aux_error)\n\u001b[1;32m   1194\u001b[0m         \u001b[0;32melse\u001b[0m\u001b[0;34m:\u001b[0m\u001b[0;34m\u001b[0m\u001b[0m\n\u001b[0;32m-> 1195\u001b[0;31m             \u001b[0;32mraise\u001b[0m \u001b[0mNotImplementedError\u001b[0m\u001b[0;34m\u001b[0m\u001b[0m\n\u001b[0m\u001b[1;32m   1196\u001b[0m \u001b[0;34m\u001b[0m\u001b[0m\n\u001b[1;32m   1197\u001b[0m     \u001b[0;32mdef\u001b[0m \u001b[0m_set_up_placeholders\u001b[0m\u001b[0;34m(\u001b[0m\u001b[0mself\u001b[0m\u001b[0;34m)\u001b[0m\u001b[0;34m:\u001b[0m\u001b[0;34m\u001b[0m\u001b[0m\n",
      "\u001b[0;31mNotImplementedError\u001b[0m: "
     ]
    }
   ],
   "source": [
    "for i, ratio in enumerate([1.]):\n",
    "    \n",
    "    ########### MTL CLASSIFIER CIFAR100 & CIFAR10 #################\n",
    "    tf.reset_default_graph()\n",
    "    model_name = \"MTL_CIFAR_100_and_10_ADAM\"\n",
    "    print(\"MODEL:- \" + model_name)\n",
    "    \n",
    "    main_train_data = CIFAR100DataProvider(which_set='train', batch_size=batch_size, shuffle_order=False)\n",
    "    main_valid_data = CIFAR100DataProvider(which_set='valid', batch_size=batch_size, shuffle_order=False)\n",
    "\n",
    "    aux_train_data = CIFAR10DataProvider(which_set='train', batch_size=batch_size, shuffle_order=False)\n",
    "    aux_valid_data = CIFAR10DataProvider(which_set='valid', batch_size=batch_size, shuffle_order=False)\n",
    "    \n",
    "    m_t_idx = utils.sample_data(main_train_data, ratio)\n",
    "    m_v_idx = utils.sample_data(main_valid_data, ratio)\n",
    "    _1 = utils.sample_data(aux_train_data, ratio, m_t_idx)\n",
    "    _2 = utils.sample_data(aux_valid_data, ratio, m_v_idx)\n",
    "    \n",
    "    model = TwoTaskConvModelSoftSharing(conv_layer_dims=layer_dims, main_train_data=main_train_data, main_valid_data=main_valid_data,\n",
    "                         aux_train_data=aux_train_data, aux_valid_data=aux_valid_data, L1=l1, L2=l2,\n",
    "                         batch_size=batch_size, learning_rates=learning_rates, learning_rate_schedule=lrn_schedule,\n",
    "                         optimiser=optimiser, max_pools=max_pools, lin_response_norms=lrns,\n",
    "                         lin_response_alphas=lrn_alphas, batch_norms=batch_norms, bifurcation_point=bifurcation_point,\n",
    "                         optimiser_params=optimizer_params, activation=activation, dropout=dropout,\n",
    "                         epochs=epochs, error=error, input_image_size=image_size, name=model_name, joint_loss=joint_loss,\n",
    "                                       soft_loss=soft_loss)\n",
    "    \n",
    "    model.create_network()\n",
    "    model.initialize_network(logs_dir)\n",
    "    model.train_model()\n",
    "    \n",
    "    ########### MTL CLASSIFIER CIFAR100 & CIFAR20 #################\n",
    "    tf.reset_default_graph()\n",
    "    model_name = \"MTL_CIFAR_100_and_20_ADAM\"\n",
    "    print(\"MODEL:- \" + model_name)\n",
    "    \n",
    "    main_train_data = CIFAR100DataProvider(which_set='train',\n",
    "                                                    batch_size=batch_size, shuffle_order=False)\n",
    "    main_valid_data = CIFAR100DataProvider(which_set='valid', batch_size=batch_size, shuffle_order=False)\n",
    "\n",
    "    aux_train_data = CIFAR100DataProvider(which_set='train', use_coarse_targets=True,\n",
    "                                                   batch_size=batch_size, shuffle_order=False)\n",
    "    aux_valid_data = CIFAR100DataProvider(which_set='valid', use_coarse_targets=True,\n",
    "                                          batch_size=batch_size, shuffle_order=False)\n",
    "    \n",
    "    m_t_idx = utils.sample_data(main_train_data, ratio)\n",
    "    m_v_idx = utils.sample_data(main_valid_data, ratio)\n",
    "    _1 = utils.sample_data(aux_train_data, ratio, m_t_idx)\n",
    "    _2 = utils.sample_data(aux_valid_data, ratio, m_v_idx)\n",
    "    \n",
    "    model = TwoTaskConvModelSoftSharing(conv_layer_dims=layer_dims, main_train_data=main_train_data, main_valid_data=main_valid_data,\n",
    "                         aux_train_data=aux_train_data, aux_valid_data=aux_valid_data, L1=l1, L2=l2,\n",
    "                         batch_size=batch_size, learning_rates=learning_rates, learning_rate_schedule=lrn_schedule,\n",
    "                         optimiser=optimiser, max_pools=max_pools, lin_response_norms=lrns,\n",
    "                         lin_response_alphas=lrn_alphas, batch_norms=batch_norms, bifurcation_point=bifurcation_point,\n",
    "                         optimiser_params=optimizer_params, activation=activation, dropout=dropout,\n",
    "                         epochs=epochs, error=error, input_image_size=image_size, name=model_name, joint_loss=joint_loss,\n",
    "                                       soft_loss=soft_loss)\n",
    "    \n",
    "    model.create_network()\n",
    "    model.initialize_network(logs_dir)\n",
    "    model.train_model()\n",
    "    \n",
    "    ########### CIFAR100 BASELINE #####################\n",
    "    tf.reset_default_graph()\n",
    "    model_name = 'baseline_with_' + str(ratio) + \"_of_the_data_ADAM\"\n",
    "    print(\"MODEL:- \" + model_name)\n",
    "    \n",
    "    train_data = CIFAR100DataProvider(which_set='train', batch_size=batch_size)\n",
    "    valid_data = CIFAR100DataProvider(which_set='valid', batch_size=batch_size)\n",
    "    \n",
    "    # update baseline data providers to have same samples \n",
    "    _3 = utils.sample_data(train_data, ratio, m_t_idx)\n",
    "    _4 = utils.sample_data(valid_data, ratio, m_v_idx)\n",
    "    \n",
    "    model_b = ConvModel(conv_layer_dims=layer_dims, train_data=train_data, valid_data=valid_data,\n",
    "                 batch_size=batch_size, learning_rates=learning_rates, learning_rate_schedule=lrn_schedule,\n",
    "                 optimiser=optimiser, L1=l1, L2=l2,\n",
    "                 max_pools=max_pools, lin_response_norms=lrns, lin_response_alphas=lrn_alphas, batch_norms=batch_norms,\n",
    "                 optimiser_params=optimizer_params, activation=activation, dropout=dropout,\n",
    "                 epochs=epochs, error=error, input_image_size=image_size, name=model_name)\n",
    "    model_b.create_network()\n",
    "    model_b.initialize_network(logs_dir)\n",
    "    model_b.train_model()"
   ]
  }
 ],
 "metadata": {
  "kernelspec": {
   "display_name": "Python 2",
   "language": "python",
   "name": "python2"
  },
  "language_info": {
   "codemirror_mode": {
    "name": "ipython",
    "version": 2
   },
   "file_extension": ".py",
   "mimetype": "text/x-python",
   "name": "python",
   "nbconvert_exporter": "python",
   "pygments_lexer": "ipython2",
   "version": "2.7.13"
  }
 },
 "nbformat": 4,
 "nbformat_minor": 1
}
