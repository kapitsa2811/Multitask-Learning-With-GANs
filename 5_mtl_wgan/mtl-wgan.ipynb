{
 "cells": [
  {
   "cell_type": "code",
   "execution_count": 1,
   "metadata": {
    "collapsed": true
   },
   "outputs": [],
   "source": [
    "import os\n",
    "import tensorflow as tf\n",
    "import time\n",
    "import datetime\n",
    "import numpy as np\n",
    "from mlp.data_providers import MNISTDataProvider, AugmentedCIFAR10DataProvider, AugmentedCIFAR100DataProvider, CIFAR100DataProvider, CIFAR10DataProvider\n",
    "from mlp.tf_layers import FCLayer, ConvLayer, max_pool_2x2\n",
    "from mlp.image_transforms import random_flip, random_crop, center_crop, random_flip_small\n",
    "from mlp.GAN_models import GAN, WasserstienGAN, CWGAN, MTLGAN\n",
    "import mlp.tf_utils as utils\n",
    "import matplotlib.pyplot as plt\n",
    "import seaborn as sns\n",
    "import cPickle\n",
    "%matplotlib inline\n",
    "\n",
    "# Seed a random number generator\n",
    "seed = 24102016 \n",
    "rng = np.random.RandomState(seed)"
   ]
  },
  {
   "cell_type": "code",
   "execution_count": 2,
   "metadata": {
    "collapsed": true
   },
   "outputs": [],
   "source": [
    "model_name = 'MTL_GAN'\n",
    "timestamp = datetime.datetime.now().strftime(\"%Y-%m-%d_%H-%M-%S\")"
   ]
  },
  {
   "cell_type": "code",
   "execution_count": 3,
   "metadata": {
    "collapsed": true
   },
   "outputs": [],
   "source": [
    "batch_size = 64  # batch size for training\n",
    "z_dim = 100  # size of input vector to generator has to include dim of y\n",
    "gen_learning_rate = 2e-4\n",
    "disc_learning_rate = 2e-4\n",
    "optimizer_param = 0.9  # beta1 for Adam optimizer / decay for RMSProp\n",
    "max_itrs = 1000  # No. of iterations to train model\n",
    "main_image_size = 32  # Size of actual images, Size of images to be generated at.\n",
    "aux_image_size = 32  # Size of actual images, Size of images to be generated at.\n",
    "optimizer = \"Adam\"  # Optimizer to use for training\n",
    "gen_dim = 16  # dimension of first layer in generator\n",
    "logs_dir = '/home/ben/Dissertation/Multitask-Learning-With-GANs/5_mtl_wgan/tf-log'\n",
    "\n",
    "generator_dims = [128 * gen_dim, 64 * gen_dim // 2, 64 * gen_dim // 4, 3]\n",
    "discriminator_dims = [3, 64, 64 * 2, 64 * 4, 64 * 8, 1]"
   ]
  },
  {
   "cell_type": "code",
   "execution_count": 4,
   "metadata": {
    "collapsed": true
   },
   "outputs": [],
   "source": [
    "main_data = CIFAR100DataProvider(which_set='train', batch_size=batch_size)\n",
    "aux_data = CIFAR100DataProvider(which_set='train', batch_size=batch_size, use_coarse_targets=True)\n",
    "main_valid = CIFAR100DataProvider(which_set='valid', batch_size=batch_size)\n",
    "aux_valid = CIFAR100DataProvider(which_set='valid', batch_size=batch_size, use_coarse_targets=True)\n",
    "y_dim_main = 100\n",
    "y_dim_aux = 20"
   ]
  },
  {
   "cell_type": "code",
   "execution_count": 5,
   "metadata": {
    "collapsed": true
   },
   "outputs": [],
   "source": [
    "_lmbda = 0.\n",
    "num_shared_l_gen = 2\n",
    "num_shared__l_disc = 2"
   ]
  },
  {
   "cell_type": "code",
   "execution_count": 6,
   "metadata": {
    "scrolled": true
   },
   "outputs": [
    {
     "name": "stdout",
     "output_type": "stream",
     "text": [
      "Setting up model...\n",
      "Initializing network...\n",
      "Training MTL-GAN model...\n",
      "Evaluating summaries...\n",
      "Time to go... 40.3718154483 mins\n",
      "Step: 50/1000Saving images... Step: 50\n",
      "Evaluating summaries...\n",
      "Time to go... 10.6305958271 mins\n",
      "Evaluating summaries...\n",
      "Time to go... 9.95735850996 mins\n",
      "Step: 100/1000Saving images... Step: 100\n",
      "Evaluating summaries...\n",
      "Time to go... 9.7169380188 mins\n",
      "Evaluating summaries...\n",
      "Time to go... 9.34698288308 mins\n",
      "Saving images... Step: 150\n",
      "Evaluating summaries...\n",
      "Time to go... 9.13207535744 mins\n",
      "Step: 200/1000Saving images... Step: 200\n",
      "Evaluating summaries...\n",
      "Time to go... 8.81507456038 mins\n",
      "Evaluating summaries...\n",
      "Time to go... 8.38049852053 mins\n",
      "Step: 250/1000Saving images... Step: 250\n",
      "Evaluating summaries...\n",
      "Time to go... 8.07015480598 mins\n",
      "Evaluating summaries...\n",
      "Time to go... 7.61212515831 mins\n",
      "Saving images... Step: 300\n",
      "Step: 309/1000Ending Training...\n"
     ]
    }
   ],
   "source": [
    "model = MTLGAN(z_dim, batch_size, main_data, aux_data, main_valid, aux_valid,\n",
    "               main_image_size, aux_image_size,\n",
    "               y_dim_main, y_dim_aux, critic_iterations=5, lmbda=10)\n",
    "\n",
    "model.create_networks(generator_dims, discriminator_dims, model_name,\n",
    "                     num_shared_l_gen, num_shared__l_disc, _lmbda, optimizer,\n",
    "                     gen_learning_rate, disc_learning_rate, optimizer_param)\n",
    "model.initialize_networks(logs_dir)\n",
    "\n",
    "model.train_model(max_itrs)"
   ]
  },
  {
   "cell_type": "code",
   "execution_count": 12,
   "metadata": {},
   "outputs": [
    {
     "data": {
      "text/plain": [
       "[<tf.Variable 'main_generator/W_z:0' shape=(200, 32768) dtype=float32_ref>,\n",
       " <tf.Variable 'main_generator/gen_bnz/beta:0' shape=(2048,) dtype=float32_ref>,\n",
       " <tf.Variable 'main_generator/W_0:0' shape=(4, 4, 512, 2048) dtype=float32_ref>,\n",
       " <tf.Variable 'main_generator/b_0:0' shape=(512,) dtype=float32_ref>,\n",
       " <tf.Variable 'main_generator/gen_bn0/beta:0' shape=(512,) dtype=float32_ref>,\n",
       " <tf.Variable 'main_generator/W_1:0' shape=(4, 4, 256, 512) dtype=float32_ref>,\n",
       " <tf.Variable 'main_generator/b_1:0' shape=(256,) dtype=float32_ref>,\n",
       " <tf.Variable 'main_generator/gen_bn1/beta:0' shape=(256,) dtype=float32_ref>,\n",
       " <tf.Variable 'main_generator/W_pred:0' shape=(4, 4, 3, 256) dtype=float32_ref>,\n",
       " <tf.Variable 'main_generator/b_pred:0' shape=(3,) dtype=float32_ref>]"
      ]
     },
     "execution_count": 12,
     "metadata": {},
     "output_type": "execute_result"
    }
   ],
   "source": [
    "\n",
    "model.main_generator_variables"
   ]
  },
  {
   "cell_type": "code",
   "execution_count": 13,
   "metadata": {},
   "outputs": [
    {
     "data": {
      "text/plain": [
       "[<tf.Variable 'main_discriminator/W_0:0' shape=(4, 4, 3, 64) dtype=float32_ref>,\n",
       " <tf.Variable 'main_discriminator/b_0:0' shape=(64,) dtype=float32_ref>,\n",
       " <tf.Variable 'main_discriminator/W_1:0' shape=(4, 4, 64, 128) dtype=float32_ref>,\n",
       " <tf.Variable 'main_discriminator/b_1:0' shape=(128,) dtype=float32_ref>,\n",
       " <tf.Variable 'main_discriminator/W_2:0' shape=(4, 4, 128, 256) dtype=float32_ref>,\n",
       " <tf.Variable 'main_discriminator/b_2:0' shape=(256,) dtype=float32_ref>,\n",
       " <tf.Variable 'main_discriminator/W_3:0' shape=(4, 4, 256, 512) dtype=float32_ref>,\n",
       " <tf.Variable 'main_discriminator/b_3:0' shape=(512,) dtype=float32_ref>,\n",
       " <tf.Variable 'main_discriminator/W_pred:0' shape=(4, 4, 512, 1) dtype=float32_ref>,\n",
       " <tf.Variable 'main_discriminator/b_pred:0' shape=(1,) dtype=float32_ref>,\n",
       " <tf.Variable 'main_discriminator/W_pred_with_y:0' shape=(101, 64) dtype=float32_ref>,\n",
       " <tf.Variable 'main_discriminator/b_pred_with_y:0' shape=(64,) dtype=float32_ref>]"
      ]
     },
     "execution_count": 13,
     "metadata": {},
     "output_type": "execute_result"
    }
   ],
   "source": [
    "model.main_discriminator_variables"
   ]
  },
  {
   "cell_type": "code",
   "execution_count": 14,
   "metadata": {},
   "outputs": [
    {
     "data": {
      "text/plain": [
       "[<tf.Variable 'aux_discriminator/W_0:0' shape=(4, 4, 3, 64) dtype=float32_ref>,\n",
       " <tf.Variable 'aux_discriminator/b_0:0' shape=(64,) dtype=float32_ref>,\n",
       " <tf.Variable 'aux_discriminator/W_1:0' shape=(4, 4, 64, 128) dtype=float32_ref>,\n",
       " <tf.Variable 'aux_discriminator/b_1:0' shape=(128,) dtype=float32_ref>,\n",
       " <tf.Variable 'aux_discriminator/W_2:0' shape=(4, 4, 128, 256) dtype=float32_ref>,\n",
       " <tf.Variable 'aux_discriminator/b_2:0' shape=(256,) dtype=float32_ref>,\n",
       " <tf.Variable 'aux_discriminator/W_3:0' shape=(4, 4, 256, 512) dtype=float32_ref>,\n",
       " <tf.Variable 'aux_discriminator/b_3:0' shape=(512,) dtype=float32_ref>,\n",
       " <tf.Variable 'aux_discriminator/W_pred:0' shape=(4, 4, 512, 1) dtype=float32_ref>,\n",
       " <tf.Variable 'aux_discriminator/b_pred:0' shape=(1,) dtype=float32_ref>,\n",
       " <tf.Variable 'aux_discriminator/W_pred_with_y:0' shape=(21, 64) dtype=float32_ref>,\n",
       " <tf.Variable 'aux_discriminator/b_pred_with_y:0' shape=(64,) dtype=float32_ref>]"
      ]
     },
     "execution_count": 14,
     "metadata": {},
     "output_type": "execute_result"
    }
   ],
   "source": [
    "model.aux_discriminator_variables"
   ]
  },
  {
   "cell_type": "code",
   "execution_count": 15,
   "metadata": {},
   "outputs": [
    {
     "data": {
      "text/plain": [
       "[<tf.Variable 'aux_generator/W_z:0' shape=(200, 32768) dtype=float32_ref>,\n",
       " <tf.Variable 'aux_generator/gen_bnz/beta:0' shape=(2048,) dtype=float32_ref>,\n",
       " <tf.Variable 'aux_generator/W_0:0' shape=(4, 4, 512, 2048) dtype=float32_ref>,\n",
       " <tf.Variable 'aux_generator/b_0:0' shape=(512,) dtype=float32_ref>,\n",
       " <tf.Variable 'aux_generator/gen_bn0/beta:0' shape=(512,) dtype=float32_ref>,\n",
       " <tf.Variable 'aux_generator/W_1:0' shape=(4, 4, 256, 512) dtype=float32_ref>,\n",
       " <tf.Variable 'aux_generator/b_1:0' shape=(256,) dtype=float32_ref>,\n",
       " <tf.Variable 'aux_generator/gen_bn1/beta:0' shape=(256,) dtype=float32_ref>,\n",
       " <tf.Variable 'aux_generator/W_pred:0' shape=(4, 4, 3, 256) dtype=float32_ref>,\n",
       " <tf.Variable 'aux_generator/b_pred:0' shape=(3,) dtype=float32_ref>]"
      ]
     },
     "execution_count": 15,
     "metadata": {},
     "output_type": "execute_result"
    }
   ],
   "source": [
    "model.aux_generator_variables"
   ]
  },
  {
   "cell_type": "code",
   "execution_count": 7,
   "metadata": {
    "collapsed": true
   },
   "outputs": [],
   "source": [
    "def class_to_vec(class_name):\n",
    "    map_list = list(map.copy())\n",
    "    item_to_visualise = class_name\n",
    "    indx = map_list.index(item_to_visualise)\n",
    "    class_v = np.zeros([len(map)])\n",
    "    class_v[indx] = 1\n",
    "    class_v = [class_v for i in range(batch_size)]\n",
    "    return np.array(class_v)"
   ]
  },
  {
   "cell_type": "code",
   "execution_count": 8,
   "metadata": {},
   "outputs": [
    {
     "ename": "NameError",
     "evalue": "name 'train_data' is not defined",
     "output_type": "error",
     "traceback": [
      "\u001b[0;31m---------------------------------------------------------------------------\u001b[0m",
      "\u001b[0;31mNameError\u001b[0m                                 Traceback (most recent call last)",
      "\u001b[0;32m<ipython-input-8-322453a3cdbb>\u001b[0m in \u001b[0;36m<module>\u001b[0;34m()\u001b[0m\n\u001b[0;32m----> 1\u001b[0;31m \u001b[0mmap\u001b[0m \u001b[0;34m=\u001b[0m \u001b[0mtrain_data\u001b[0m\u001b[0;34m.\u001b[0m\u001b[0mlabel_map\u001b[0m\u001b[0;34m\u001b[0m\u001b[0m\n\u001b[0m\u001b[1;32m      2\u001b[0m \u001b[0mmap\u001b[0m\u001b[0;34m\u001b[0m\u001b[0m\n",
      "\u001b[0;31mNameError\u001b[0m: name 'train_data' is not defined"
     ]
    }
   ],
   "source": [
    "map = train_data.label_map\n",
    "map"
   ]
  },
  {
   "cell_type": "code",
   "execution_count": null,
   "metadata": {
    "collapsed": true
   },
   "outputs": [],
   "source": [
    "print(\"Sampling images from model...\")\n",
    "class_v = class_to_vec(\"sunflower\")\n",
    "z = np.random.uniform(-1.0, 1.0, size=[batch_size, 200 - class_v.shape[1]]).astype(np.float32)\n",
    "z = np.concatenate([z, class_v.astype(np.float32)], 1)\n",
    "\n",
    "feed_dict = {model.z_vec: z, model.train_phase: True}\n",
    "\n",
    "images = model.sess.run(model.gen_images, feed_dict=feed_dict)\n",
    "shape = [1, 1]\n",
    "utils.save_imshow_grid(images, model.logs_dir, \"generated_sample_\" + str(time.time()) + \".png\", shape=shape)"
   ]
  },
  {
   "cell_type": "code",
   "execution_count": null,
   "metadata": {
    "collapsed": true
   },
   "outputs": [],
   "source": [
    "model.generate_sample(np.array(class_v))"
   ]
  },
  {
   "cell_type": "code",
   "execution_count": null,
   "metadata": {
    "collapsed": true
   },
   "outputs": [],
   "source": [
    "model.gen_images[0]"
   ]
  }
 ],
 "metadata": {
  "kernelspec": {
   "display_name": "Python 2",
   "language": "python",
   "name": "python2"
  },
  "language_info": {
   "codemirror_mode": {
    "name": "ipython",
    "version": 2
   },
   "file_extension": ".py",
   "mimetype": "text/x-python",
   "name": "python",
   "nbconvert_exporter": "python",
   "pygments_lexer": "ipython2",
   "version": "2.7.13"
  }
 },
 "nbformat": 4,
 "nbformat_minor": 1
}
